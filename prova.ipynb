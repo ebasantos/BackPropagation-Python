{
  "nbformat": 4,
  "nbformat_minor": 0,
  "metadata": {
    "colab": {
      "name": "prova.ipynb",
      "provenance": [],
      "collapsed_sections": [],
      "include_colab_link": true
    },
    "kernelspec": {
      "name": "python2",
      "display_name": "Python 2"
    }
  },
  "cells": [
    {
      "cell_type": "markdown",
      "metadata": {
        "id": "view-in-github",
        "colab_type": "text"
      },
      "source": [
        "<a href=\"https://colab.research.google.com/github/ebasantos/BackPropagation-Python/blob/master/prova.ipynb\" target=\"_parent\"><img src=\"https://colab.research.google.com/assets/colab-badge.svg\" alt=\"Open In Colab\"/></a>"
      ]
    },
    {
      "cell_type": "code",
      "metadata": {
        "id": "F37mQhOva5Bd",
        "colab_type": "code",
        "outputId": "9db7d5bf-ef04-4d83-a14f-fc7b6586c7a6",
        "colab": {
          "base_uri": "https://localhost:8080/",
          "height": 697
        }
      },
      "source": [
        "import numpy as np\n",
        "\n",
        "#ENTRADA\n",
        "X = np.array(([2, 1], [6, 1], [4, 5]), dtype=float)\n",
        "y = np.array(([92], [86], [89]), dtype=float)\n",
        "\n",
        "\n",
        "X = X/np.amax(X, axis=0) \n",
        "y = y/100 \n",
        "\n",
        "class Neural_Network(object):\n",
        "  def __init__(self):\n",
        "    self.inputSize = 2\n",
        "    self.outputSize = 1\n",
        "    self.hiddenSize = 3\n",
        "\n",
        "    self.W1 = np.random.randn(self.inputSize, self.hiddenSize) \n",
        "    self.W2 = np.random.randn(self.hiddenSize, self.outputSize)\n",
        "\n",
        "  def forward(self, X):\n",
        "    self.z = np.dot(X, self.W1) \n",
        "    self.z2 = self.sigmoid(self.z) \n",
        "    self.z3 = np.dot(self.z2, self.W2) \n",
        "    o = self.sigmoid(self.z3) \n",
        "    return o \n",
        "\n",
        "  def sigmoid(self, s):\n",
        "    return 1/(1+np.exp(-s))\n",
        "\n",
        "  def sigmoidPrime(self, s):\n",
        "    return s * (1 - s)\n",
        "\n",
        "  def backward(self, X, y, o):\n",
        "    self.o_error = y - o \n",
        "    self.o_delta = self.o_error*self.sigmoidPrime(o) \n",
        "    self.z2_error = self.o_delta.dot(self.W2.T) \n",
        "    self.z2_delta = self.z2_error*self.sigmoidPrime(self.z2) \n",
        "\n",
        "    self.W1 += X.T.dot(self.z2_delta) \n",
        "    self.W2 += self.z2.T.dot(self.o_delta)\n",
        "\n",
        "  def train (self, X, y):\n",
        "    o = self.forward(X)\n",
        "    self.backward(X, y, o)\n",
        "\n",
        "NN = Neural_Network()\n",
        "\n",
        "#PROXIMOS 4 DIAS\n",
        "for i in xrange(4): \n",
        "  print (\"Entrada: \\n\" + str(X)) \n",
        "  print (\"Saida predita: \\n\" + str(NN.forward(X)))\n",
        "  print (\"\\n\")\n",
        "  NN.train(X, y)"
      ],
      "execution_count": 0,
      "outputs": [
        {
          "output_type": "stream",
          "text": [
            "Entrada: \n",
            "[[0.33333333 0.2       ]\n",
            " [1.         0.2       ]\n",
            " [0.66666667 1.        ]]\n",
            "Saida predita: \n",
            "[[0.75656879]\n",
            " [0.73085029]\n",
            " [0.67935522]]\n",
            "\n",
            "\n",
            "Entrada: \n",
            "[[0.33333333 0.2       ]\n",
            " [1.         0.2       ]\n",
            " [0.66666667 1.        ]]\n",
            "Saida predita: \n",
            "[[0.76591562]\n",
            " [0.74124598]\n",
            " [0.69040735]]\n",
            "\n",
            "\n",
            "Entrada: \n",
            "[[0.33333333 0.2       ]\n",
            " [1.         0.2       ]\n",
            " [0.66666667 1.        ]]\n",
            "Saida predita: \n",
            "[[0.7744205 ]\n",
            " [0.75084136]\n",
            " [0.70072066]]\n",
            "\n",
            "\n",
            "Entrada: \n",
            "[[0.33333333 0.2       ]\n",
            " [1.         0.2       ]\n",
            " [0.66666667 1.        ]]\n",
            "Saida predita: \n",
            "[[0.78217205]\n",
            " [0.75969803]\n",
            " [0.71034104]]\n",
            "\n",
            "\n"
          ],
          "name": "stdout"
        }
      ]
    }
  ]
}